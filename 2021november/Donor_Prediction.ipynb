{
 "cells": [
  {
   "cell_type": "markdown",
   "metadata": {
    "dc": {
     "key": "3"
    },
    "deletable": false,
    "editable": false,
    "run_control": {
     "frozen": true
    },
    "tags": [
     "context"
    ]
   },
   "source": [
    "## 1. Inspecting transfusion.data file\n",
    "<p><img src=\"https://assets.datacamp.com/production/project_646/img/blood_donation.png\" style=\"float: right;\" alt=\"A pictogram of a blood bag with blood donation written in it\" width=\"200\"></p>\n",
    "<p>Blood transfusion saves lives - from replacing lost blood during major surgery or a serious injury to treating various illnesses and blood disorders. Ensuring that there's enough blood in supply whenever needed is a serious challenge for the health professionals. According to <a href=\"https://www.webmd.com/a-to-z-guides/blood-transfusion-what-to-know#1\">WebMD</a>, \"about 5 million Americans need a blood transfusion every year\".</p>\n",
    "<p>Our dataset is from a mobile blood donation vehicle in Taiwan. The Blood Transfusion Service Center drives to different universities and collects blood as part of a blood drive. We want to predict whether or not a donor will give blood the next time the vehicle comes to campus.</p>\n",
    "<p>The data is stored in <code>datasets/transfusion.data</code> and it is structured according to RFMTC marketing model (a variation of RFM). We'll explore what that means later in this notebook. First, let's inspect the data.</p>"
   ]
  },
  {
   "cell_type": "code",
   "execution_count": 93,
   "metadata": {
    "dc": {
     "key": "3"
    },
    "tags": [
     "sample_code"
    ]
   },
   "outputs": [
    {
     "name": "stdout",
     "output_type": "stream",
     "text": [
      "Recency (months),Frequency (times),Monetary (c.c. blood),Time (months),\"whether he/she donated blood in March 2007\"\n",
      "2 ,50,12500,98 ,1\n",
      "0 ,13,3250,28 ,1\n",
      "1 ,16,4000,35 ,1\n",
      "2 ,20,5000,45 ,1\n",
      "1 ,24,6000,77 ,0\n",
      "4 ,4,1000,4 ,0\n",
      "2 ,7,1750,14 ,1\n",
      "1 ,12,3000,35 ,0\n",
      "2 ,9,2250,22 ,1\n",
      "5 ,46,11500,98 ,1\n",
      "4 ,23,5750,58 ,0\n",
      "0 ,3,750,4 ,0\n",
      "2 ,10,2500,28 ,1\n",
      "1 ,13,3250,47 ,0\n",
      "2 ,6,1500,15 ,1\n",
      "2 ,5,1250,11 ,1\n",
      "2 ,14,3500,48 ,1\n",
      "2 ,15,3750,49 ,1\n",
      "2 ,6,1500,15 ,1\n",
      "2 ,3,750,4 ,1\n",
      "2 ,3,750,4 ,1\n",
      "4 ,11,2750,28 ,0\n",
      "2 ,6,1500,16 ,1\n",
      "2 ,6,1500,16 ,1\n",
      "9 ,9,2250,16 ,0\n",
      "4 ,14,3500,40 ,0\n",
      "4 ,6,1500,14 ,0\n",
      "4 ,12,3000,34 ,1\n",
      "4 ,5,1250,11 ,1\n",
      "4 ,8,2000,21 ,0\n",
      "1 ,14,3500,58 ,0\n",
      "4 ,10,2500,28 ,1\n",
      "4 ,10,2500,28 ,1\n",
      "4 ,9,2250,26 ,1\n",
      "2 ,16,4000,64 ,0\n",
      "2 ,8,2000,28 ,1\n",
      "2 ,12,3000,47 ,1\n",
      "4 ,6,1500,16 ,1\n",
      "2 ,14,3500,57 ,1\n",
      "4 ,7,1750,22 ,1\n",
      "2 ,13,3250,53 ,1\n",
      "2 ,5,1250,16 ,0\n",
      "2 ,5,1250,16 ,1\n",
      "2 ,5,1250,16 ,0\n",
      "4 ,20,5000,69 ,1\n",
      "4 ,9,2250,28 ,1\n",
      "2 ,9,2250,36 ,0\n",
      "2 ,2,500,2 ,0\n",
      "2 ,2,500,2 ,0\n",
      "2 ,2,500,2 ,0\n",
      "2 ,11,2750,46 ,0\n",
      "2 ,11,2750,46 ,1\n",
      "2 ,6,1500,22 ,0\n",
      "2 ,12,3000,52 ,0\n",
      "4 ,5,1250,14 ,1\n",
      "4 ,19,4750,69 ,1\n",
      "4 ,8,2000,26 ,1\n",
      "2 ,7,1750,28 ,1\n",
      "2 ,16,4000,81 ,0\n",
      "3 ,6,1500,21 ,0\n",
      "2 ,7,1750,29 ,0\n",
      "2 ,8,2000,35 ,1\n",
      "2 ,10,2500,49 ,0\n",
      "4 ,5,1250,16 ,1\n",
      "2 ,3,750,9 ,1\n",
      "3 ,16,4000,74 ,0\n",
      "2 ,4,1000,14 ,1\n",
      "0 ,2,500,4 ,0\n",
      "4 ,7,1750,25 ,0\n",
      "1 ,9,2250,51 ,0\n",
      "2 ,4,1000,16 ,0\n",
      "2 ,4,1000,16 ,0\n",
      "4 ,17,4250,71 ,1\n",
      "2 ,2,500,4 ,0\n",
      "2 ,2,500,4 ,1\n",
      "2 ,2,500,4 ,1\n",
      "2 ,4,1000,16 ,1\n",
      "2 ,2,500,4 ,0\n",
      "2 ,2,500,4 ,0\n",
      "2 ,2,500,4 ,0\n",
      "4 ,6,1500,23 ,1\n",
      "2 ,4,1000,16 ,0\n",
      "2 ,4,1000,16 ,0\n",
      "2 ,4,1000,16 ,0\n",
      "2 ,6,1500,28 ,1\n",
      "2 ,6,1500,28 ,0\n",
      "4 ,2,500,4 ,0\n",
      "4 ,2,500,4 ,0\n",
      "4 ,2,500,4 ,0\n",
      "2 ,7,1750,35 ,1\n",
      "4 ,2,500,4 ,1\n",
      "4 ,2,500,4 ,0\n",
      "4 ,2,500,4 ,0\n",
      "4 ,2,500,4 ,0\n",
      "12 ,11,2750,23 ,0\n",
      "4 ,7,1750,28 ,0\n",
      "3 ,17,4250,86 ,0\n",
      "4 ,9,2250,38 ,1\n",
      "4 ,4,1000,14 ,1\n",
      "5 ,7,1750,26 ,1\n",
      "4 ,8,2000,34 ,1\n",
      "2 ,13,3250,76 ,1\n",
      "4 ,9,2250,40 ,0\n",
      "2 ,5,1250,26 ,0\n",
      "2 ,5,1250,26 ,0\n",
      "6 ,17,4250,70 ,0\n",
      "0 ,8,2000,59 ,0\n",
      "3 ,5,1250,26 ,0\n",
      "2 ,3,750,14 ,0\n",
      "2 ,10,2500,64 ,0\n",
      "4 ,5,1250,23 ,1\n",
      "4 ,9,2250,46 ,0\n",
      "4 ,5,1250,23 ,0\n",
      "4 ,8,2000,40 ,1\n",
      "2 ,12,3000,82 ,0\n",
      "11 ,24,6000,64 ,0\n",
      "2 ,7,1750,46 ,1\n",
      "4 ,11,2750,61 ,0\n",
      "1 ,7,1750,57 ,0\n",
      "2 ,11,2750,79 ,1\n",
      "2 ,3,750,16 ,1\n",
      "4 ,5,1250,26 ,1\n",
      "2 ,6,1500,41 ,1\n",
      "2 ,5,1250,33 ,1\n",
      "2 ,4,1000,26 ,0\n",
      "2 ,5,1250,34 ,0\n",
      "4 ,8,2000,46 ,1\n",
      "2 ,4,1000,26 ,0\n",
      "4 ,8,2000,48 ,1\n",
      "2 ,2,500,10 ,1\n",
      "4 ,5,1250,28 ,0\n",
      "2 ,12,3000,95 ,0\n",
      "2 ,2,500,10 ,0\n",
      "4 ,6,1500,35 ,0\n",
      "2 ,11,2750,88 ,0\n",
      "2 ,3,750,19 ,0\n",
      "2 ,5,1250,37 ,0\n",
      "2 ,12,3000,98 ,0\n",
      "9 ,5,1250,19 ,0\n",
      "2 ,2,500,11 ,0\n",
      "2 ,9,2250,74 ,0\n",
      "5 ,14,3500,86 ,0\n",
      "4 ,3,750,16 ,0\n",
      "4 ,3,750,16 ,0\n",
      "4 ,2,500,9 ,1\n",
      "4 ,3,750,16 ,1\n",
      "6 ,3,750,14 ,0\n",
      "2 ,2,500,11 ,0\n",
      "2 ,2,500,11 ,1\n",
      "2 ,2,500,11 ,0\n",
      "2 ,7,1750,58 ,1\n",
      "4 ,6,1500,39 ,0\n",
      "4 ,11,2750,78 ,0\n",
      "2 ,1,250,2 ,1\n",
      "2 ,1,250,2 ,0\n",
      "2 ,1,250,2 ,0\n",
      "2 ,1,250,2 ,0\n",
      "2 ,1,250,2 ,0\n",
      "2 ,1,250,2 ,0\n",
      "2 ,1,250,2 ,0\n",
      "2 ,1,250,2 ,0\n",
      "2 ,1,250,2 ,0\n",
      "2 ,1,250,2 ,0\n",
      "2 ,1,250,2 ,1\n",
      "2 ,1,250,2 ,1\n",
      "2 ,1,250,2 ,1\n",
      "2 ,1,250,2 ,0\n",
      "2 ,1,250,2 ,0\n",
      "2 ,1,250,2 ,0\n",
      "2 ,1,250,2 ,0\n",
      "2 ,1,250,2 ,0\n",
      "2 ,1,250,2 ,0\n",
      "2 ,1,250,2 ,0\n",
      "2 ,1,250,2 ,0\n",
      "2 ,1,250,2 ,0\n",
      "11 ,10,2500,35 ,0\n",
      "11 ,4,1000,16 ,1\n",
      "4 ,5,1250,33 ,1\n",
      "4 ,6,1500,41 ,1\n",
      "2 ,3,750,22 ,0\n",
      "4 ,4,1000,26 ,1\n",
      "10 ,4,1000,16 ,0\n",
      "2 ,4,1000,35 ,0\n",
      "4 ,12,3000,88 ,0\n",
      "13 ,8,2000,26 ,0\n",
      "11 ,9,2250,33 ,0\n",
      "4 ,5,1250,34 ,0\n",
      "4 ,4,1000,26 ,0\n",
      "8 ,15,3750,77 ,0\n",
      "4 ,5,1250,35 ,1\n",
      "4 ,7,1750,52 ,0\n",
      "4 ,7,1750,52 ,0\n",
      "2 ,4,1000,35 ,0\n",
      "11 ,11,2750,42 ,0\n",
      "2 ,2,500,14 ,0\n",
      "2 ,5,1250,47 ,1\n",
      "9 ,8,2000,38 ,1\n",
      "4 ,6,1500,47 ,0\n",
      "11 ,7,1750,29 ,0\n",
      "9 ,9,2250,45 ,0\n",
      "4 ,6,1500,52 ,0\n",
      "4 ,7,1750,58 ,0\n",
      "6 ,2,500,11 ,1\n",
      "4 ,7,1750,58 ,0\n",
      "11 ,9,2250,38 ,0\n",
      "11 ,6,1500,26 ,0\n",
      "2 ,2,500,16 ,0\n",
      "2 ,7,1750,76 ,0\n",
      "11 ,6,1500,27 ,0\n",
      "11 ,3,750,14 ,0\n",
      "4 ,1,250,4 ,0\n",
      "4 ,1,250,4 ,0\n",
      "4 ,1,250,4 ,0\n",
      "4 ,1,250,4 ,0\n",
      "4 ,1,250,4 ,0\n",
      "4 ,1,250,4 ,1\n",
      "4 ,1,250,4 ,0\n",
      "4 ,1,250,4 ,0\n",
      "4 ,1,250,4 ,0\n",
      "4 ,1,250,4 ,0\n",
      "4 ,1,250,4 ,0\n",
      "4 ,1,250,4 ,1\n",
      "4 ,1,250,4 ,1\n",
      "4 ,1,250,4 ,0\n",
      "4 ,1,250,4 ,1\n",
      "4 ,1,250,4 ,1\n",
      "4 ,1,250,4 ,0\n",
      "4 ,3,750,24 ,0\n",
      "4 ,1,250,4 ,0\n",
      "4 ,1,250,4 ,0\n",
      "4 ,1,250,4 ,0\n",
      "4 ,1,250,4 ,1\n",
      "4 ,1,250,4 ,0\n",
      "10 ,8,2000,39 ,0\n",
      "14 ,7,1750,26 ,0\n",
      "8 ,10,2500,63 ,0\n",
      "11 ,3,750,15 ,0\n",
      "4 ,2,500,14 ,0\n",
      "2 ,4,1000,43 ,0\n",
      "8 ,9,2250,58 ,0\n",
      "8 ,8,2000,52 ,1\n",
      "11 ,22,5500,98 ,0\n",
      "4 ,3,750,25 ,1\n",
      "11 ,17,4250,79 ,1\n",
      "9 ,2,500,11 ,0\n",
      "4 ,5,1250,46 ,0\n",
      "11 ,12,3000,58 ,0\n",
      "7 ,12,3000,86 ,0\n",
      "11 ,2,500,11 ,0\n",
      "11 ,2,500,11 ,0\n",
      "11 ,2,500,11 ,0\n",
      "2 ,6,1500,75 ,0\n",
      "11 ,8,2000,41 ,1\n",
      "11 ,3,750,16 ,1\n",
      "12 ,13,3250,59 ,0\n",
      "2 ,3,750,35 ,0\n",
      "16 ,8,2000,28 ,0\n",
      "11 ,7,1750,37 ,0\n",
      "4 ,3,750,28 ,0\n",
      "12 ,12,3000,58 ,0\n",
      "4 ,4,1000,41 ,0\n",
      "11 ,14,3500,73 ,1\n",
      "2 ,2,500,23 ,0\n",
      "2 ,3,750,38 ,1\n",
      "4 ,5,1250,58 ,0\n",
      "4 ,4,1000,43 ,1\n",
      "3 ,2,500,23 ,0\n",
      "11 ,8,2000,46 ,0\n",
      "4 ,7,1750,82 ,0\n",
      "13 ,4,1000,21 ,0\n",
      "16 ,11,2750,40 ,0\n",
      "16 ,7,1750,28 ,0\n",
      "7 ,2,500,16 ,0\n",
      "4 ,5,1250,58 ,0\n",
      "4 ,5,1250,58 ,0\n",
      "4 ,4,1000,46 ,0\n",
      "14 ,13,3250,57 ,0\n",
      "4 ,3,750,34 ,0\n",
      "14 ,18,4500,78 ,0\n",
      "11 ,8,2000,48 ,0\n",
      "14 ,16,4000,70 ,0\n",
      "14 ,4,1000,22 ,1\n",
      "14 ,5,1250,26 ,0\n",
      "8 ,2,500,16 ,0\n",
      "11 ,5,1250,33 ,0\n",
      "11 ,2,500,14 ,0\n",
      "4 ,2,500,23 ,0\n",
      "9 ,2,500,16 ,1\n",
      "14 ,5,1250,28 ,1\n",
      "14 ,3,750,19 ,1\n",
      "14 ,4,1000,23 ,1\n",
      "16 ,12,3000,50 ,0\n",
      "11 ,4,1000,28 ,0\n",
      "11 ,5,1250,35 ,0\n",
      "11 ,5,1250,35 ,0\n",
      "2 ,4,1000,70 ,0\n",
      "14 ,5,1250,28 ,0\n",
      "14 ,2,500,14 ,0\n",
      "14 ,2,500,14 ,0\n",
      "14 ,2,500,14 ,0\n",
      "14 ,2,500,14 ,0\n",
      "14 ,2,500,14 ,0\n",
      "14 ,2,500,14 ,0\n",
      "2 ,3,750,52 ,0\n",
      "14 ,6,1500,34 ,0\n",
      "11 ,5,1250,37 ,1\n",
      "4 ,5,1250,74 ,0\n",
      "11 ,3,750,23 ,0\n",
      "16 ,4,1000,23 ,0\n",
      "16 ,3,750,19 ,0\n",
      "11 ,5,1250,38 ,0\n",
      "11 ,2,500,16 ,0\n",
      "12 ,9,2250,60 ,0\n",
      "9 ,1,250,9 ,0\n",
      "9 ,1,250,9 ,0\n",
      "4 ,2,500,29 ,0\n",
      "11 ,2,500,17 ,0\n",
      "14 ,4,1000,26 ,0\n",
      "11 ,9,2250,72 ,1\n",
      "11 ,5,1250,41 ,0\n",
      "15 ,16,4000,82 ,0\n",
      "9 ,5,1250,51 ,1\n",
      "11 ,4,1000,34 ,0\n",
      "14 ,8,2000,50 ,1\n",
      "16 ,7,1750,38 ,0\n",
      "14 ,2,500,16 ,0\n",
      "2 ,2,500,41 ,0\n",
      "14 ,16,4000,98 ,0\n",
      "14 ,4,1000,28 ,1\n",
      "16 ,7,1750,39 ,0\n",
      "14 ,7,1750,47 ,0\n",
      "16 ,6,1500,35 ,0\n",
      "16 ,6,1500,35 ,1\n",
      "11 ,7,1750,62 ,1\n",
      "16 ,2,500,16 ,0\n",
      "16 ,3,750,21 ,1\n",
      "11 ,3,750,28 ,0\n",
      "11 ,7,1750,64 ,0\n",
      "11 ,1,250,11 ,1\n",
      "9 ,3,750,34 ,0\n",
      "14 ,4,1000,30 ,0\n",
      "23 ,38,9500,98 ,0\n",
      "11 ,6,1500,58 ,0\n",
      "11 ,1,250,11 ,0\n",
      "11 ,1,250,11 ,0\n",
      "11 ,1,250,11 ,0\n",
      "11 ,1,250,11 ,0\n",
      "11 ,1,250,11 ,0\n",
      "11 ,1,250,11 ,0\n",
      "11 ,1,250,11 ,0\n",
      "11 ,1,250,11 ,0\n",
      "11 ,2,500,21 ,0\n",
      "11 ,5,1250,50 ,0\n",
      "11 ,2,500,21 ,0\n",
      "16 ,4,1000,28 ,0\n",
      "4 ,2,500,41 ,0\n",
      "16 ,6,1500,40 ,0\n",
      "14 ,3,750,26 ,0\n",
      "9 ,2,500,26 ,0\n",
      "21 ,16,4000,64 ,0\n",
      "14 ,6,1500,51 ,0\n",
      "11 ,2,500,24 ,0\n",
      "4 ,3,750,71 ,0\n",
      "21 ,13,3250,57 ,0\n",
      "11 ,6,1500,71 ,0\n",
      "14 ,2,500,21 ,1\n",
      "23 ,15,3750,57 ,0\n",
      "14 ,4,1000,38 ,0\n",
      "11 ,2,500,26 ,0\n",
      "16 ,5,1250,40 ,1\n",
      "4 ,2,500,51 ,1\n",
      "14 ,3,750,31 ,0\n",
      "4 ,2,500,52 ,0\n",
      "9 ,4,1000,65 ,0\n",
      "14 ,4,1000,40 ,0\n",
      "11 ,3,750,40 ,1\n",
      "14 ,5,1250,50 ,0\n",
      "14 ,1,250,14 ,0\n",
      "14 ,1,250,14 ,0\n",
      "14 ,1,250,14 ,0\n",
      "14 ,1,250,14 ,0\n",
      "14 ,1,250,14 ,0\n",
      "14 ,1,250,14 ,0\n",
      "14 ,1,250,14 ,0\n",
      "14 ,1,250,14 ,0\n",
      "14 ,7,1750,72 ,0\n",
      "14 ,1,250,14 ,0\n",
      "14 ,1,250,14 ,0\n",
      "9 ,3,750,52 ,0\n",
      "14 ,7,1750,73 ,0\n",
      "11 ,4,1000,58 ,0\n",
      "11 ,4,1000,59 ,0\n",
      "4 ,2,500,59 ,0\n",
      "11 ,4,1000,61 ,0\n",
      "16 ,4,1000,40 ,0\n",
      "16 ,10,2500,89 ,0\n",
      "21 ,2,500,21 ,1\n",
      "21 ,3,750,26 ,0\n",
      "16 ,8,2000,76 ,0\n",
      "21 ,3,750,26 ,1\n",
      "18 ,2,500,23 ,0\n",
      "23 ,5,1250,33 ,0\n",
      "23 ,8,2000,46 ,0\n",
      "16 ,3,750,34 ,0\n",
      "14 ,5,1250,64 ,0\n",
      "14 ,3,750,41 ,0\n",
      "16 ,1,250,16 ,0\n",
      "16 ,1,250,16 ,0\n",
      "16 ,1,250,16 ,0\n",
      "16 ,1,250,16 ,0\n",
      "16 ,1,250,16 ,0\n",
      "16 ,1,250,16 ,0\n",
      "16 ,1,250,16 ,0\n",
      "16 ,4,1000,45 ,0\n",
      "16 ,1,250,16 ,0\n",
      "16 ,1,250,16 ,0\n",
      "16 ,1,250,16 ,0\n",
      "16 ,1,250,16 ,0\n",
      "16 ,1,250,16 ,0\n",
      "16 ,2,500,26 ,0\n",
      "21 ,2,500,23 ,0\n",
      "16 ,2,500,27 ,0\n",
      "21 ,2,500,23 ,0\n",
      "21 ,2,500,23 ,0\n",
      "14 ,4,1000,57 ,0\n",
      "16 ,5,1250,60 ,0\n",
      "23 ,2,500,23 ,0\n",
      "14 ,5,1250,74 ,0\n",
      "23 ,3,750,28 ,0\n",
      "16 ,3,750,40 ,0\n",
      "9 ,2,500,52 ,0\n",
      "9 ,2,500,52 ,0\n",
      "16 ,7,1750,87 ,1\n",
      "14 ,4,1000,64 ,0\n",
      "14 ,2,500,35 ,0\n",
      "16 ,7,1750,93 ,0\n",
      "21 ,2,500,25 ,0\n",
      "14 ,3,750,52 ,0\n",
      "23 ,14,3500,93 ,0\n",
      "18 ,8,2000,95 ,0\n",
      "16 ,3,750,46 ,0\n",
      "11 ,3,750,76 ,0\n",
      "11 ,2,500,52 ,0\n",
      "11 ,3,750,76 ,0\n",
      "23 ,12,3000,86 ,0\n",
      "21 ,3,750,35 ,0\n",
      "23 ,2,500,26 ,0\n",
      "23 ,2,500,26 ,0\n",
      "23 ,8,2000,64 ,0\n",
      "16 ,3,750,50 ,0\n",
      "23 ,3,750,33 ,0\n",
      "21 ,3,750,38 ,0\n",
      "23 ,2,500,28 ,0\n",
      "21 ,1,250,21 ,0\n",
      "21 ,1,250,21 ,0\n",
      "21 ,1,250,21 ,0\n",
      "21 ,1,250,21 ,0\n",
      "21 ,1,250,21 ,0\n",
      "21 ,1,250,21 ,0\n",
      "21 ,1,250,21 ,0\n",
      "21 ,1,250,21 ,0\n",
      "21 ,1,250,21 ,0\n",
      "21 ,1,250,21 ,1\n",
      "21 ,1,250,21 ,0\n",
      "21 ,1,250,21 ,0\n",
      "21 ,5,1250,60 ,0\n",
      "23 ,4,1000,45 ,0\n",
      "21 ,4,1000,52 ,0\n",
      "22 ,1,250,22 ,1\n",
      "11 ,2,500,70 ,0\n",
      "23 ,5,1250,58 ,0\n",
      "23 ,3,750,40 ,0\n",
      "23 ,3,750,41 ,0\n",
      "14 ,3,750,83 ,0\n",
      "21 ,2,500,35 ,0\n",
      "26 ,5,1250,49 ,1\n",
      "23 ,6,1500,70 ,0\n",
      "23 ,1,250,23 ,0\n",
      "23 ,1,250,23 ,0\n",
      "23 ,1,250,23 ,0\n",
      "23 ,1,250,23 ,0\n",
      "23 ,1,250,23 ,0\n",
      "23 ,1,250,23 ,0\n",
      "23 ,1,250,23 ,0\n",
      "23 ,1,250,23 ,0\n",
      "23 ,4,1000,53 ,0\n",
      "21 ,6,1500,86 ,0\n",
      "23 ,3,750,48 ,0\n",
      "21 ,2,500,41 ,0\n",
      "21 ,3,750,64 ,0\n",
      "16 ,2,500,70 ,0\n",
      "21 ,3,750,70 ,0\n",
      "23 ,4,1000,87 ,0\n",
      "23 ,3,750,89 ,0\n",
      "23 ,2,500,87 ,0\n",
      "35 ,3,750,64 ,0\n",
      "38 ,1,250,38 ,0\n",
      "38 ,1,250,38 ,0\n",
      "40 ,1,250,40 ,0\n",
      "74 ,1,250,74 ,0\n",
      "2 ,43,10750,86 ,1\n",
      "6 ,22,5500,28 ,1\n",
      "2 ,34,8500,77 ,1\n",
      "2 ,44,11000,98 ,0\n",
      "0 ,26,6500,76 ,1\n",
      "2 ,41,10250,98 ,1\n",
      "3 ,21,5250,42 ,1\n",
      "2 ,11,2750,23 ,0\n",
      "2 ,21,5250,52 ,1\n",
      "2 ,13,3250,32 ,1\n",
      "4 ,4,1000,4 ,1\n",
      "2 ,11,2750,26 ,0\n",
      "2 ,11,2750,28 ,0\n",
      "3 ,14,3500,35 ,0\n",
      "4 ,16,4000,38 ,1\n",
      "4 ,6,1500,14 ,0\n",
      "3 ,5,1250,12 ,1\n",
      "4 ,33,8250,98 ,1\n",
      "3 ,10,2500,33 ,1\n",
      "4 ,10,2500,28 ,1\n",
      "2 ,11,2750,40 ,1\n",
      "2 ,11,2750,41 ,1\n",
      "4 ,13,3250,39 ,1\n",
      "1 ,10,2500,43 ,1\n",
      "4 ,9,2250,28 ,0\n",
      "2 ,4,1000,11 ,0\n",
      "2 ,5,1250,16 ,1\n",
      "2 ,15,3750,64 ,0\n",
      "5 ,24,6000,79 ,0\n",
      "2 ,6,1500,22 ,1\n",
      "4 ,5,1250,16 ,1\n",
      "2 ,4,1000,14 ,1\n",
      "4 ,8,2000,28 ,0\n",
      "2 ,4,1000,14 ,0\n",
      "2 ,6,1500,26 ,0\n",
      "4 ,5,1250,16 ,1\n",
      "2 ,7,1750,32 ,1\n",
      "2 ,6,1500,26 ,1\n",
      "2 ,8,2000,38 ,1\n",
      "2 ,2,500,4 ,1\n",
      "2 ,6,1500,28 ,1\n",
      "2 ,10,2500,52 ,0\n",
      "4 ,16,4000,70 ,1\n",
      "4 ,2,500,4 ,1\n",
      "1 ,14,3500,95 ,0\n",
      "4 ,2,500,4 ,1\n",
      "7 ,14,3500,48 ,0\n",
      "2 ,3,750,11 ,0\n",
      "2 ,12,3000,70 ,1\n",
      "4 ,7,1750,32 ,1\n",
      "4 ,4,1000,16 ,0\n",
      "2 ,6,1500,35 ,1\n",
      "4 ,6,1500,28 ,1\n",
      "2 ,3,750,14 ,0\n",
      "2 ,4,1000,23 ,0\n",
      "4 ,4,1000,18 ,0\n",
      "5 ,6,1500,28 ,0\n",
      "4 ,6,1500,30 ,0\n",
      "14 ,5,1250,14 ,0\n",
      "3 ,8,2000,50 ,0\n",
      "4 ,11,2750,64 ,1\n",
      "4 ,9,2250,52 ,0\n",
      "4 ,16,4000,98 ,1\n",
      "7 ,10,2500,47 ,0\n",
      "4 ,14,3500,86 ,0\n",
      "2 ,9,2250,75 ,0\n",
      "4 ,6,1500,35 ,0\n",
      "4 ,9,2250,55 ,0\n",
      "4 ,6,1500,35 ,1\n",
      "2 ,6,1500,45 ,0\n",
      "2 ,6,1500,47 ,0\n",
      "4 ,2,500,9 ,0\n",
      "2 ,2,500,11 ,1\n",
      "2 ,2,500,11 ,0\n",
      "2 ,2,500,11 ,1\n",
      "4 ,6,1500,38 ,1\n",
      "3 ,4,1000,29 ,1\n",
      "9 ,9,2250,38 ,0\n",
      "11 ,5,1250,18 ,0\n",
      "2 ,3,750,21 ,0\n",
      "2 ,1,250,2 ,0\n",
      "2 ,1,250,2 ,1\n",
      "2 ,1,250,2 ,0\n",
      "2 ,1,250,2 ,0\n",
      "2 ,1,250,2 ,0\n",
      "2 ,1,250,2 ,0\n",
      "2 ,1,250,2 ,1\n",
      "2 ,1,250,2 ,0\n",
      "2 ,1,250,2 ,0\n",
      "2 ,1,250,2 ,0\n",
      "2 ,1,250,2 ,0\n",
      "11 ,11,2750,38 ,0\n",
      "2 ,3,750,22 ,0\n",
      "9 ,11,2750,49 ,1\n",
      "5 ,11,2750,75 ,0\n",
      "3 ,5,1250,38 ,0\n",
      "3 ,1,250,3 ,1\n",
      "4 ,6,1500,43 ,0\n",
      "2 ,3,750,24 ,0\n",
      "12 ,11,2750,39 ,0\n",
      "2 ,2,500,14 ,0\n",
      "4 ,6,1500,46 ,0\n",
      "9 ,3,750,14 ,0\n",
      "14 ,8,2000,26 ,0\n",
      "4 ,2,500,13 ,0\n",
      "4 ,11,2750,95 ,0\n",
      "2 ,7,1750,77 ,0\n",
      "2 ,7,1750,77 ,0\n",
      "4 ,1,250,4 ,0\n",
      "4 ,1,250,4 ,0\n",
      "4 ,1,250,4 ,0\n",
      "4 ,1,250,4 ,0\n",
      "4 ,1,250,4 ,1\n",
      "4 ,1,250,4 ,0\n",
      "4 ,1,250,4 ,0\n",
      "4 ,1,250,4 ,0\n",
      "4 ,1,250,4 ,0\n",
      "4 ,1,250,4 ,0\n",
      "4 ,1,250,4 ,1\n",
      "4 ,1,250,4 ,0\n",
      "4 ,7,1750,62 ,0\n",
      "4 ,1,250,4 ,0\n",
      "4 ,4,1000,34 ,1\n",
      "11 ,6,1500,28 ,0\n",
      "13 ,3,750,14 ,1\n",
      "7 ,5,1250,35 ,0\n",
      "9 ,9,2250,54 ,0\n",
      "11 ,2,500,11 ,0\n",
      "2 ,5,1250,63 ,0\n",
      "7 ,11,2750,89 ,0\n",
      "8 ,9,2250,64 ,0\n",
      "2 ,2,500,22 ,0\n",
      "6 ,3,750,26 ,0\n",
      "12 ,15,3750,71 ,0\n",
      "13 ,3,750,16 ,0\n",
      "11 ,16,4000,89 ,0\n",
      "4 ,5,1250,58 ,0\n",
      "14 ,7,1750,35 ,0\n",
      "11 ,4,1000,27 ,0\n",
      "7 ,9,2250,89 ,1\n",
      "11 ,8,2000,52 ,1\n",
      "7 ,5,1250,52 ,0\n",
      "11 ,6,1500,41 ,0\n",
      "10 ,5,1250,38 ,0\n",
      "14 ,2,500,14 ,1\n",
      "14 ,2,500,14 ,0\n",
      "14 ,2,500,14 ,0\n",
      "2 ,2,500,33 ,0\n",
      "11 ,3,750,23 ,0\n",
      "14 ,8,2000,46 ,0\n",
      "9 ,1,250,9 ,0\n",
      "16 ,5,1250,27 ,0\n",
      "14 ,4,1000,26 ,0\n",
      "4 ,2,500,30 ,0\n",
      "14 ,3,750,21 ,0\n",
      "16 ,16,4000,77 ,0\n",
      "4 ,2,500,31 ,0\n",
      "14 ,8,2000,50 ,0\n",
      "11 ,3,750,26 ,0\n",
      "14 ,7,1750,45 ,0\n",
      "15 ,5,1250,33 ,0\n",
      "16 ,2,500,16 ,0\n",
      "16 ,3,750,21 ,0\n",
      "11 ,8,2000,72 ,0\n",
      "11 ,1,250,11 ,0\n",
      "11 ,1,250,11 ,0\n",
      "11 ,1,250,11 ,0\n",
      "11 ,1,250,11 ,1\n",
      "11 ,1,250,11 ,0\n",
      "2 ,3,750,75 ,1\n",
      "2 ,3,750,77 ,0\n",
      "16 ,4,1000,28 ,0\n",
      "16 ,15,3750,87 ,0\n",
      "16 ,14,3500,83 ,0\n",
      "16 ,10,2500,62 ,0\n",
      "16 ,3,750,23 ,0\n",
      "14 ,3,750,26 ,0\n",
      "23 ,19,4750,62 ,0\n",
      "11 ,7,1750,75 ,0\n",
      "14 ,3,750,28 ,0\n",
      "20 ,14,3500,69 ,1\n",
      "4 ,2,500,46 ,0\n",
      "11 ,2,500,25 ,0\n",
      "11 ,3,750,37 ,0\n",
      "16 ,4,1000,33 ,0\n",
      "21 ,7,1750,38 ,0\n",
      "13 ,7,1750,76 ,0\n",
      "16 ,6,1500,50 ,0\n",
      "14 ,3,750,33 ,0\n",
      "14 ,1,250,14 ,0\n",
      "14 ,1,250,14 ,0\n",
      "14 ,1,250,14 ,0\n",
      "14 ,1,250,14 ,0\n",
      "14 ,1,250,14 ,0\n",
      "14 ,1,250,14 ,0\n",
      "17 ,7,1750,58 ,1\n",
      "14 ,3,750,35 ,0\n",
      "14 ,3,750,35 ,0\n",
      "16 ,7,1750,64 ,0\n",
      "21 ,2,500,21 ,0\n",
      "16 ,3,750,35 ,0\n",
      "16 ,1,250,16 ,0\n",
      "16 ,1,250,16 ,0\n",
      "16 ,1,250,16 ,0\n",
      "16 ,1,250,16 ,0\n",
      "16 ,1,250,16 ,0\n",
      "14 ,2,500,29 ,0\n",
      "11 ,4,1000,74 ,0\n",
      "11 ,2,500,38 ,1\n",
      "21 ,6,1500,48 ,0\n",
      "23 ,2,500,23 ,0\n",
      "23 ,6,1500,45 ,0\n",
      "14 ,2,500,35 ,1\n",
      "16 ,6,1500,81 ,0\n",
      "16 ,4,1000,58 ,0\n",
      "16 ,5,1250,71 ,0\n",
      "21 ,2,500,26 ,0\n",
      "21 ,3,750,35 ,0\n",
      "21 ,3,750,35 ,0\n",
      "23 ,8,2000,69 ,0\n",
      "21 ,3,750,38 ,0\n",
      "23 ,3,750,35 ,0\n",
      "21 ,3,750,40 ,0\n",
      "23 ,2,500,28 ,0\n",
      "21 ,1,250,21 ,0\n",
      "21 ,1,250,21 ,0\n",
      "25 ,6,1500,50 ,0\n",
      "21 ,1,250,21 ,0\n",
      "21 ,1,250,21 ,0\n",
      "23 ,3,750,39 ,0\n",
      "21 ,2,500,33 ,0\n",
      "14 ,3,750,79 ,0\n",
      "23 ,1,250,23 ,1\n",
      "23 ,1,250,23 ,0\n",
      "23 ,1,250,23 ,0\n",
      "23 ,1,250,23 ,0\n",
      "23 ,1,250,23 ,0\n",
      "23 ,1,250,23 ,0\n",
      "23 ,1,250,23 ,0\n",
      "23 ,4,1000,52 ,0\n",
      "23 ,1,250,23 ,0\n",
      "23 ,7,1750,88 ,0\n",
      "16 ,3,750,86 ,0\n",
      "23 ,2,500,38 ,0\n",
      "21 ,2,500,52 ,0\n",
      "23 ,3,750,62 ,0\n",
      "39 ,1,250,39 ,0\n",
      "72 ,1,250,72 ,0\n"
     ]
    }
   ],
   "source": [
    "# Print out the first 5 lines from the transfusion.data file\n",
    "\n",
    "!type datasets\\transfusion.csv\n",
    "\n",
    "\n"
   ]
  },
  {
   "cell_type": "markdown",
   "metadata": {
    "dc": {
     "key": "10"
    },
    "deletable": false,
    "editable": false,
    "run_control": {
     "frozen": true
    },
    "tags": [
     "context"
    ]
   },
   "source": [
    "## 2. Loading the blood donations data\n",
    "<p>We now know that we are working with a typical CSV file (i.e., the delimiter is <code>,</code>, etc.). We proceed to loading the data into memory.</p>"
   ]
  },
  {
   "cell_type": "code",
   "execution_count": 94,
   "metadata": {
    "dc": {
     "key": "10"
    },
    "tags": [
     "sample_code"
    ]
   },
   "outputs": [
    {
     "name": "stdout",
     "output_type": "stream",
     "text": [
      "   Recency (months)  Frequency (times)  Monetary (c.c. blood)  Time (months)  \\\n",
      "0                 2                 50                  12500             98   \n",
      "1                 0                 13                   3250             28   \n",
      "2                 1                 16                   4000             35   \n",
      "3                 2                 20                   5000             45   \n",
      "4                 1                 24                   6000             77   \n",
      "\n",
      "   whether he/she donated blood in March 2007  \n",
      "0                                           1  \n",
      "1                                           1  \n",
      "2                                           1  \n",
      "3                                           1  \n",
      "4                                           0  \n"
     ]
    }
   ],
   "source": [
    "# Import pandas\n",
    "import pandas as pd\n",
    "\n",
    "# Read in dataset\n",
    "df = pd.read_csv('datasets/transfusion.csv')\n",
    "\n",
    "# Print out the first rows of our dataset\n",
    "print(df.head(5))"
   ]
  },
  {
   "cell_type": "markdown",
   "metadata": {
    "dc": {
     "key": "17"
    },
    "deletable": false,
    "editable": false,
    "run_control": {
     "frozen": true
    },
    "tags": [
     "context"
    ]
   },
   "source": [
    "## 3. Inspecting transfusion DataFrame\n",
    "<p>Let's briefly return to our discussion of RFM model. RFM stands for Recency, Frequency and Monetary Value and it is commonly used in marketing for identifying your best customers. In our case, our customers are blood donors.</p>\n",
    "<p>RFMTC is a variation of the RFM model. Below is a description of what each column means in our dataset:</p>\n",
    "<ul>\n",
    "<li>R (Recency - months since the last donation)</li>\n",
    "<li>F (Frequency - total number of donation)</li>\n",
    "<li>M (Monetary - total blood donated in c.c.)</li>\n",
    "<li>T (Time - months since the first donation)</li>\n",
    "<li>a binary variable representing whether he/she donated blood in March 2007 (1 stands for donating blood; 0 stands for not donating blood)</li>\n",
    "</ul>\n",
    "<p>It looks like every column in our DataFrame has the numeric type, which is exactly what we want when building a machine learning model. Let's verify our hypothesis.</p>"
   ]
  },
  {
   "cell_type": "code",
   "execution_count": 95,
   "metadata": {
    "dc": {
     "key": "17"
    },
    "tags": [
     "sample_code"
    ]
   },
   "outputs": [
    {
     "name": "stdout",
     "output_type": "stream",
     "text": [
      "Recency (months)                              int64\n",
      "Frequency (times)                             int64\n",
      "Monetary (c.c. blood)                         int64\n",
      "Time (months)                                 int64\n",
      "whether he/she donated blood in March 2007    int64\n",
      "dtype: object\n"
     ]
    }
   ],
   "source": [
    "# Print a concise summary of transfusion DataFrame\n",
    "print(df.dtypes)\n",
    "\n"
   ]
  },
  {
   "cell_type": "markdown",
   "metadata": {
    "dc": {
     "key": "24"
    },
    "deletable": false,
    "editable": false,
    "run_control": {
     "frozen": true
    },
    "tags": [
     "context"
    ]
   },
   "source": [
    "## 4. Creating target column\n",
    "<p>We are aiming to predict the value in <code>whether he/she donated blood in March 2007</code> column. Let's rename this it to <code>target</code> so that it's more convenient to work with.</p>"
   ]
  },
  {
   "cell_type": "code",
   "execution_count": 96,
   "metadata": {
    "dc": {
     "key": "24"
    },
    "tags": [
     "sample_code"
    ]
   },
   "outputs": [
    {
     "name": "stdout",
     "output_type": "stream",
     "text": [
      "   Recency (months)  Frequency (times)  Monetary (c.c. blood)  Time (months)  \\\n",
      "0                 2                 50                  12500             98   \n",
      "1                 0                 13                   3250             28   \n",
      "\n",
      "   Target  \n",
      "0       1  \n",
      "1       1  \n"
     ]
    }
   ],
   "source": [
    "# Rename target column as 'target' for brevity \n",
    "df.rename(\n",
    "    columns={'whether he/she donated blood in March 2007': 'Target'},\n",
    "    inplace=True\n",
    ")\n",
    "\n",
    "# Print out the first 2 rows\n",
    "print(df.iloc[:2])"
   ]
  },
  {
   "cell_type": "markdown",
   "metadata": {
    "dc": {
     "key": "31"
    },
    "deletable": false,
    "editable": false,
    "run_control": {
     "frozen": true
    },
    "tags": [
     "context"
    ]
   },
   "source": [
    "## 5. Checking target incidence\n",
    "<p>We want to predict whether or not the same donor will give blood the next time the vehicle comes to campus. The model for this is a binary classifier, meaning that there are only 2 possible outcomes:</p>\n",
    "<ul>\n",
    "<li><code>0</code> - the donor will not give blood</li>\n",
    "<li><code>1</code> - the donor will give blood</li>\n",
    "</ul>\n",
    "<p>Target incidence is defined as the number of cases of each individual target value in a dataset. That is, how many 0s in the target column compared to how many 1s? Target incidence gives us an idea of how balanced (or imbalanced) is our dataset.</p>"
   ]
  },
  {
   "cell_type": "code",
   "execution_count": 97,
   "metadata": {
    "dc": {
     "key": "31"
    },
    "tags": [
     "sample_code"
    ]
   },
   "outputs": [
    {
     "data": {
      "text/plain": [
       "0    76.203\n",
       "1    23.797\n",
       "Name: Target, dtype: float64"
      ]
     },
     "execution_count": 97,
     "metadata": {},
     "output_type": "execute_result"
    }
   ],
   "source": [
    "# Print target incidence proportions, rounding output to 3 decimal places\n",
    "# ... YOUR CODE FOR TASK 5 ...\n",
    "\n",
    "\n",
    "#import seaborn as sns\n",
    "\n",
    "#sns.countplot('Target', data= df)\n",
    "              \n",
    "\n",
    "(df['Target'].value_counts(normalize=True)*100).round(decimals=3)\n",
    "\n",
    "\n",
    "    "
   ]
  },
  {
   "cell_type": "markdown",
   "metadata": {
    "dc": {
     "key": "38"
    },
    "deletable": false,
    "editable": false,
    "run_control": {
     "frozen": true
    },
    "tags": [
     "context"
    ]
   },
   "source": [
    "## 6. Splitting transfusion into train and test datasets\n",
    "<p>We'll now use <code>train_test_split()</code> method to split <code>transfusion</code> DataFrame.</p>\n",
    "<p>Target incidence informed us that in our dataset <code>0</code>s appear 76% of the time. We want to keep the same structure in train and test datasets, i.e., both datasets must have 0 target incidence of 76%. This is very easy to do using the <code>train_test_split()</code> method from the <code>scikit learn</code> library - all we need to do is specify the <code>stratify</code> parameter. In our case, we'll stratify on the <code>target</code> column.</p>"
   ]
  },
  {
   "cell_type": "code",
   "execution_count": 98,
   "metadata": {
    "dc": {
     "key": "38"
    },
    "tags": [
     "sample_code"
    ]
   },
   "outputs": [
    {
     "name": "stdout",
     "output_type": "stream",
     "text": [
      "(561, 4) (187, 4) (561,) (187,)\n",
      "     Recency (months)  Frequency (times)  Monetary (c.c. blood)  Time (months)\n",
      "334                16                  2                    500             16\n",
      "99                  5                  7                   1750             26\n"
     ]
    }
   ],
   "source": [
    "# Import train_test_split method\n",
    "from sklearn.model_selection import train_test_split\n",
    "\n",
    "# Split transfusion DataFrame into\n",
    "# X_train, X_test, y_train and y_test datasets,\n",
    "# stratifying on the `target` column\n",
    "\n",
    "\n",
    "X_train, X_test, Y_train, Y_test = train_test_split(\n",
    "    df.drop(columns='Target'),\n",
    "    df.Target,\n",
    "    test_size=0.25,\n",
    "    random_state=42,\n",
    "    stratify=df.Target\n",
    ")\n",
    "\n",
    "print(X_train.shape, X_test.shape, Y_train.shape, Y_test.shape)\n",
    "\n",
    "# Print out the first 2 rows of X_train\n",
    "# ... YOUR CODE FOR TASK 6 ...\n",
    "\n",
    "print(X_train.iloc[:2])"
   ]
  },
  {
   "cell_type": "markdown",
   "metadata": {
    "dc": {
     "key": "45"
    },
    "deletable": false,
    "editable": false,
    "run_control": {
     "frozen": true
    },
    "tags": [
     "context"
    ]
   },
   "source": [
    "## 7. Selecting model using TPOT\n",
    "<p><a href=\"https://github.com/EpistasisLab/tpot\">TPOT</a> is a Python Automated Machine Learning tool that optimizes machine learning pipelines using genetic programming.</p>\n",
    "<p><img src=\"https://assets.datacamp.com/production/project_646/img/tpot-ml-pipeline.png\" alt=\"TPOT Machine Learning Pipeline\"></p>\n",
    "<p>TPOT will automatically explore hundreds of possible pipelines to find the best one for our dataset. Note, the outcome of this search will be a <a href=\"https://scikit-learn.org/stable/modules/generated/sklearn.pipeline.Pipeline.html\">scikit-learn pipeline</a>, meaning it will include any pre-processing steps as well as the model.</p>\n",
    "<p>We are using TPOT to help us zero in on one model that we can then explore and optimize further.</p>"
   ]
  },
  {
   "cell_type": "code",
   "execution_count": 99,
   "metadata": {
    "dc": {
     "key": "45"
    },
    "tags": [
     "sample_code"
    ]
   },
   "outputs": [
    {
     "data": {
      "application/vnd.jupyter.widget-view+json": {
       "model_id": "",
       "version_major": 2,
       "version_minor": 0
      },
      "text/plain": [
       "HBox(children=(FloatProgress(value=0.0, description='Optimization Progress', max=120.0, style=ProgressStyle(de…"
      ]
     },
     "metadata": {},
     "output_type": "display_data"
    },
    {
     "name": "stdout",
     "output_type": "stream",
     "text": [
      "\n",
      "Generation 1 - Current best internal CV score: 0.7422459184429089\n",
      "\n",
      "Generation 2 - Current best internal CV score: 0.7422459184429089\n",
      "\n",
      "Generation 3 - Current best internal CV score: 0.7422459184429089\n",
      "\n",
      "Generation 4 - Current best internal CV score: 0.7422459184429089\n",
      "\n",
      "Generation 5 - Current best internal CV score: 0.7456308339276876\n",
      "\n",
      "Best pipeline: MultinomialNB(Normalizer(input_matrix, norm=l2), alpha=0.001, fit_prior=True)\n",
      "\n",
      "AUC score: 0.7637\n",
      "\n",
      "Best pipeline steps:\n",
      "1. Normalizer()\n",
      "2. MultinomialNB(alpha=0.001)\n"
     ]
    }
   ],
   "source": [
    "# Import TPOTClassifier and roc_auc_score\n",
    "from tpot import TPOTClassifier\n",
    "from sklearn.metrics import roc_auc_score\n",
    "\n",
    "# Instantiate TPOTClassifier\n",
    "\n",
    "\n",
    "tpot = TPOTClassifier (\n",
    "    generations=5,\n",
    "    population_size=20,\n",
    "    verbosity=2,\n",
    "    scoring='roc_auc',\n",
    "    random_state=42,\n",
    "    disable_update_check=True,\n",
    "    config_dict='TPOT light'\n",
    ")\n",
    "tpot.fit( X_train, Y_train)\n",
    "\n",
    "# AUC score for tpot model\n",
    "tpot_auc_score = roc_auc_score(Y_test, tpot.predict_proba(X_test)[:, 1])\n",
    "\n",
    "print(f'\\nAUC score: { tpot_auc_score :.4f}')\n",
    "\n",
    "# Print best pipeline steps\n",
    "print('\\nBest pipeline steps:', end='\\n')\n",
    "\n",
    "for idx, (name, transform) in enumerate(tpot.fitted_pipeline_.steps, start=1):\n",
    "    # Print idx and transform\n",
    "    print(f'{idx}. {transform}')"
   ]
  },
  {
   "cell_type": "markdown",
   "metadata": {
    "dc": {
     "key": "52"
    },
    "deletable": false,
    "editable": false,
    "run_control": {
     "frozen": true
    },
    "tags": [
     "context"
    ]
   },
   "source": [
    "## 8. Checking the variance\n",
    "<p>TPOT picked <code>LogisticRegression</code> as the best model for our dataset with no pre-processing steps, giving us the AUC score of 0.7850. This is a great starting point. Let's see if we can make it better.</p>\n",
    "<p>One of the assumptions for linear regression models is that the data and the features we are giving it are related in a linear fashion, or can be measured with a linear distance metric. If a feature in our dataset has a high variance that's an order of magnitude or more greater than the other features, this could impact the model's ability to learn from other features in the dataset.</p>\n",
    "<p>Correcting for high variance is called normalization. It is one of the possible transformations you do before training a model. Let's check the variance to see if such transformation is needed.</p>"
   ]
  },
  {
   "cell_type": "code",
   "execution_count": 100,
   "metadata": {
    "dc": {
     "key": "52"
    },
    "tags": [
     "sample_code"
    ]
   },
   "outputs": [
    {
     "name": "stdout",
     "output_type": "stream",
     "text": [
      "Recency (months)         6.692902e+01\n",
      "Frequency (times)        3.382982e+01\n",
      "Monetary (c.c. blood)    2.114364e+06\n",
      "Time (months)            6.111466e+02\n",
      "dtype: float64\n"
     ]
    }
   ],
   "source": [
    "# X_train's variance, rounding the output to 3 decimal places\n",
    "# ... YOUR CODE FOR TASK 8 ...\n",
    "\n",
    "print(X_train.var())"
   ]
  },
  {
   "cell_type": "markdown",
   "metadata": {
    "dc": {
     "key": "59"
    },
    "deletable": false,
    "editable": false,
    "run_control": {
     "frozen": true
    },
    "tags": [
     "context"
    ]
   },
   "source": [
    "## 9. Log normalization\n",
    "<p><code>Monetary (c.c. blood)</code>'s variance is very high in comparison to any other column in the dataset. This means that, unless accounted for, this feature may get more weight by the model (i.e., be seen as more important) than any other feature.</p>\n",
    "<p>One way to correct for high variance is to use log normalization.</p>"
   ]
  },
  {
   "cell_type": "code",
   "execution_count": 112,
   "metadata": {
    "dc": {
     "key": "59"
    },
    "tags": [
     "sample_code"
    ]
   },
   "outputs": [
    {
     "name": "stdout",
     "output_type": "stream",
     "text": [
      "Recency (months)      66.929017\n",
      "Frequency (times)     33.829819\n",
      "Time (months)        611.146588\n",
      "monetary_log           0.837458\n",
      "dtype: float64\n"
     ]
    }
   ],
   "source": [
    "# Import numpy\n",
    "import numpy as np\n",
    "\n",
    "# Copy X_train and X_test into X_train_normed and X_test_normed\n",
    "X_train_normed, X_test_normed = X_train.copy(), X_test.copy()\n",
    "\n",
    "\n",
    "# Specify which column to normalize\n",
    "col_to_normalize = \"Monetary (c.c. blood)\"\n",
    "\n",
    "# Log normalization\n",
    "for df_ in [X_train_normed, X_test_normed]:\n",
    "    \n",
    "    # Add log normalized column\n",
    "    df_[\"monetary_log\"] = np.log(df_[\"Monetary (c.c. blood)\"])\n",
    "    \n",
    "\n",
    "    \n",
    "    # Drop the original column\n",
    "    \n",
    "    df_.drop(columns=\"Monetary (c.c. blood)\" , inplace=True)\n",
    "\n",
    "# Check the variance for X_train_normed\n",
    "\n",
    "print(X_train_normed.var())"
   ]
  },
  {
   "cell_type": "markdown",
   "metadata": {
    "dc": {
     "key": "66"
    },
    "deletable": false,
    "editable": false,
    "run_control": {
     "frozen": true
    },
    "tags": [
     "context"
    ]
   },
   "source": [
    "## 10. Training the linear regression model\n",
    "<p>The variance looks much better now. Notice that now <code>Time (months)</code> has the largest variance, but it's not the <a href=\"https://en.wikipedia.org/wiki/Order_of_magnitude\">orders of magnitude</a> higher than the rest of the variables, so we'll leave it as is.</p>\n",
    "<p>We are now ready to train the linear regression model.</p>"
   ]
  },
  {
   "cell_type": "code",
   "execution_count": 141,
   "metadata": {
    "dc": {
     "key": "66"
    },
    "tags": [
     "sample_code"
    ]
   },
   "outputs": [
    {
     "name": "stdout",
     "output_type": "stream",
     "text": [
      "\n",
      "AUC score: 0.7891\n"
     ]
    }
   ],
   "source": [
    "# Importing modules\n",
    "\n",
    "from sklearn.linear_model import LogisticRegression\n",
    "\n",
    "\n",
    "# Instantiate LogisticRegression\n",
    "logreg = LogisticRegression(\n",
    "    solver='liblinear',\n",
    "    random_state=42\n",
    ")\n",
    "\n",
    "# Train the model\n",
    "logreg.fit(X_train_normed, Y_train)\n",
    "\n",
    "# AUC score for tpot model\n",
    "     \n",
    "logreg_auc_score = roc_auc_score(Y_test, logreg.predict_proba(X_test_normed)[:, 1])\n",
    "\n",
    "\n",
    "print(f'\\nAUC score: {logreg_auc_score :.4f}')"
   ]
  },
  {
   "cell_type": "markdown",
   "metadata": {
    "dc": {
     "key": "73"
    },
    "deletable": false,
    "editable": false,
    "run_control": {
     "frozen": true
    },
    "tags": [
     "context"
    ]
   },
   "source": [
    "## 11. Conclusion\n",
    "<p>The demand for blood fluctuates throughout the year. As one <a href=\"https://www.kjrh.com/news/local-news/red-cross-in-blood-donation-crisis\">prominent</a> example, blood donations slow down during busy holiday seasons. An accurate forecast for the future supply of blood allows for an appropriate action to be taken ahead of time and therefore saving more lives.</p>\n",
    "<p>In this notebook, we explored automatic model selection using TPOT and AUC score we got was 0.7850. This is better than simply choosing <code>0</code> all the time (the target incidence suggests that such a model would have 76% success rate). We then log normalized our training data and improved the AUC score by 0.5%. In the field of machine learning, even small improvements in accuracy can be important, depending on the purpose.</p>\n",
    "<p>Another benefit of using logistic regression model is that it is interpretable. We can analyze how much of the variance in the response variable (<code>target</code>) can be explained by other variables in our dataset.</p>"
   ]
  },
  {
   "cell_type": "code",
   "execution_count": 142,
   "metadata": {
    "dc": {
     "key": "73"
    },
    "tags": [
     "sample_code"
    ]
   },
   "outputs": [
    {
     "data": {
      "text/plain": [
       "[('logreg', 0.7890972663699937), ('tpot', 0.7637476160203432)]"
      ]
     },
     "execution_count": 142,
     "metadata": {},
     "output_type": "execute_result"
    }
   ],
   "source": [
    "# Importing itemgetter\n",
    "from operator import itemgetter\n",
    "\n",
    "# Sort models based on their AUC score from highest to lowest\n",
    "sorted(\n",
    "    [('tpot', tpot_auc_score), ('logreg', logreg_auc_score)],\n",
    "    key=itemgetter(1),\n",
    "    reverse=True\n",
    ")"
   ]
  },
  {
   "cell_type": "code",
   "execution_count": null,
   "metadata": {},
   "outputs": [],
   "source": []
  }
 ],
 "metadata": {
  "kernelspec": {
   "display_name": "Python 3",
   "language": "python",
   "name": "python3"
  },
  "language_info": {
   "codemirror_mode": {
    "name": "ipython",
    "version": 3
   },
   "file_extension": ".py",
   "mimetype": "text/x-python",
   "name": "python",
   "nbconvert_exporter": "python",
   "pygments_lexer": "ipython3",
   "version": "3.8.3"
  }
 },
 "nbformat": 4,
 "nbformat_minor": 2
}
